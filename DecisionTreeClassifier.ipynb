{
 "cells": [
  {
   "cell_type": "code",
   "execution_count": 2,
   "id": "4b18eea6-7c38-4cb7-845a-76c1654fcc0d",
   "metadata": {},
   "outputs": [],
   "source": [
    "import pandas as pd\n",
    "import numpy as np"
   ]
  },
  {
   "cell_type": "code",
   "execution_count": 4,
   "id": "24ba24ce-258d-404c-a8ff-b75470254d1b",
   "metadata": {},
   "outputs": [
    {
     "data": {
      "text/html": [
       "<div>\n",
       "<style scoped>\n",
       "    .dataframe tbody tr th:only-of-type {\n",
       "        vertical-align: middle;\n",
       "    }\n",
       "\n",
       "    .dataframe tbody tr th {\n",
       "        vertical-align: top;\n",
       "    }\n",
       "\n",
       "    .dataframe thead th {\n",
       "        text-align: right;\n",
       "    }\n",
       "</style>\n",
       "<table border=\"1\" class=\"dataframe\">\n",
       "  <thead>\n",
       "    <tr style=\"text-align: right;\">\n",
       "      <th></th>\n",
       "      <th>sepal_length</th>\n",
       "      <th>sepal_width</th>\n",
       "      <th>petal_length</th>\n",
       "      <th>petal_width</th>\n",
       "      <th>type</th>\n",
       "    </tr>\n",
       "  </thead>\n",
       "  <tbody>\n",
       "    <tr>\n",
       "      <th>1</th>\n",
       "      <td>5.1</td>\n",
       "      <td>3.5</td>\n",
       "      <td>1.4</td>\n",
       "      <td>0.2</td>\n",
       "      <td>Iris-setosa</td>\n",
       "    </tr>\n",
       "    <tr>\n",
       "      <th>2</th>\n",
       "      <td>4.9</td>\n",
       "      <td>3.0</td>\n",
       "      <td>1.4</td>\n",
       "      <td>0.2</td>\n",
       "      <td>Iris-setosa</td>\n",
       "    </tr>\n",
       "    <tr>\n",
       "      <th>3</th>\n",
       "      <td>4.7</td>\n",
       "      <td>3.2</td>\n",
       "      <td>1.3</td>\n",
       "      <td>0.2</td>\n",
       "      <td>Iris-setosa</td>\n",
       "    </tr>\n",
       "    <tr>\n",
       "      <th>4</th>\n",
       "      <td>4.6</td>\n",
       "      <td>3.1</td>\n",
       "      <td>1.5</td>\n",
       "      <td>0.2</td>\n",
       "      <td>Iris-setosa</td>\n",
       "    </tr>\n",
       "    <tr>\n",
       "      <th>5</th>\n",
       "      <td>5.0</td>\n",
       "      <td>3.6</td>\n",
       "      <td>1.4</td>\n",
       "      <td>0.2</td>\n",
       "      <td>Iris-setosa</td>\n",
       "    </tr>\n",
       "  </tbody>\n",
       "</table>\n",
       "</div>"
      ],
      "text/plain": [
       "   sepal_length  sepal_width  petal_length  petal_width         type\n",
       "1           5.1          3.5           1.4          0.2  Iris-setosa\n",
       "2           4.9          3.0           1.4          0.2  Iris-setosa\n",
       "3           4.7          3.2           1.3          0.2  Iris-setosa\n",
       "4           4.6          3.1           1.5          0.2  Iris-setosa\n",
       "5           5.0          3.6           1.4          0.2  Iris-setosa"
      ]
     },
     "execution_count": 4,
     "metadata": {},
     "output_type": "execute_result"
    }
   ],
   "source": [
    "col_names = ['sepal_length','sepal_width','petal_length','petal_width','type']\n",
    "data = pd.read_csv(\"iris.csv\",skiprows=1,header=None,names=col_names)\n",
    "data.head()"
   ]
  },
  {
   "cell_type": "markdown",
   "id": "922822ba-b1f5-4bfb-85b6-213f2504a977",
   "metadata": {},
   "source": [
    "## Node Class"
   ]
  },
  {
   "cell_type": "code",
   "execution_count": null,
   "id": "41ae64b4-e18c-4a01-80d4-0437295e29e4",
   "metadata": {},
   "outputs": [],
   "source": [
    "class Node():\n",
    "    def __init__(self,feature_index=None,threshold=None,right_node=None,left_node=None,value=None,info_gain=None):\n",
    "        self.feature_index=feature_index\n",
    "        self.threshold=threshold\n",
    "        self.right_node=right_node\n",
    "        self.left_node=left_node\n",
    "        self.value=value\n",
    "        self.info_gain=info_gain"
   ]
  },
  {
   "cell_type": "code",
   "execution_count": null,
   "id": "90280413-05dc-471a-9ec7-89a863cd4a17",
   "metadata": {},
   "outputs": [],
   "source": [
    "class DecisionTreeClasssifier():\n",
    "    def __init__(self,min_samples_split,max_depth):\n",
    "        self.root=None\n",
    "        self.min_samples_split=min_samples_split\n",
    "        self.max_depth=max_depth\n",
    "\n",
    "    def build_tree(self,dataset,curr_depth=0):\n",
    "        X,Y = dataset[:,:-1],dataset[:,-1]\n",
    "        num_samples,num_features = np.shape(X)\n",
    "\n",
    "        if(num_samples>=self.min_samples_split and curr_depth<=max_depth):\n",
    "            best_split = self.get_best_split(dataset,num_samples,num_features)\n",
    "\n",
    "            if best_split['info_gain']>0:\n",
    "                right_node = self.build_tree(best_split['dataset_right'])\n",
    "                left_node = self.build_tree(best_split['dataset_left'])\n",
    "\n",
    "                #the info gain of a node is the info gain we obtain when we further split it into its child nodes. That's why leaf nodes do not have any info gain feature\n",
    "                return Node(best_split['feature_index'],best_split['threshold'],right_node,left_node,best_split['info_gain'])\n",
    "\n",
    "        #make a leaf node:\n",
    "        leaf_value = self.calculate_leaf_value(Y)\n",
    "        return Node(value=leaf_value)\n",
    "\n",
    "    def get_best_split(self,dataset,num_samples,num_features):\n",
    "        best_split = {}\n",
    "        max_info_gain = -float(\"inf\")\n",
    "        for feature_index in range(num_features):\n",
    "            possible_thresholds = np.unique(dataset[:,feature_index])\n",
    "            for threshold in possible_thresholds:\n",
    "                left_dataset, right_dataset = self.split(dataset,feature_index,threshold)\n",
    "                y,left_y,right_y = dataset[:,-1],left_dataset[:,-1],right_dataset[:,-1]\n",
    "\n",
    "                curr_info_gain = calculate_info_gain(y,left_y,right_y,\"gini\")\n",
    "\n",
    "                if curr_info_gain>max_info_gain:\n",
    "                    best_split['feature_index'] = feature_index\n",
    "                    best_split['threshold'] = threshold\n",
    "                    best_split['dataset_right'] = right_dataset\n",
    "                    best_split['dataset_left'] = left_dataset\n",
    "                    best_split['info_gain'] = curr_info_gain\n",
    "                    max_info_gain = curr_info_gain\n",
    "        return best_split   "
   ]
  }
 ],
 "metadata": {
  "kernelspec": {
   "display_name": "Python 3 (ipykernel)",
   "language": "python",
   "name": "python3"
  },
  "language_info": {
   "codemirror_mode": {
    "name": "ipython",
    "version": 3
   },
   "file_extension": ".py",
   "mimetype": "text/x-python",
   "name": "python",
   "nbconvert_exporter": "python",
   "pygments_lexer": "ipython3",
   "version": "3.13.3"
  }
 },
 "nbformat": 4,
 "nbformat_minor": 5
}
